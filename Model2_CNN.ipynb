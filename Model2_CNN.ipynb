{
 "cells": [
  {
   "cell_type": "markdown",
   "metadata": {},
   "source": [
    "### Convolutional Neural Network\n",
    "This notebook contains the CNN model implementation."
   ]
  },
  {
   "cell_type": "code",
   "execution_count": 6,
   "metadata": {
    "collapsed": false
   },
   "outputs": [],
   "source": [
    "from keras.models import Sequential\n",
    "from keras.layers import Dense, Activation\n",
    "from keras.optimizers import SGD\n",
    "import time\n",
    "from datetime import datetime\n",
    "from matplotlib import pyplot\n",
    "from keras.layers import Convolution2D, MaxPooling2D, Flatten\n",
    "from DataPreparation import load2d\n",
    "from keras import backend as K\n",
    "from SaveModel import save_arch, save_history\n",
    "from keras.callbacks import ModelCheckpoint\n",
    "import pickle\n",
    "from pandas import read_csv\n",
    "import numpy as np"
   ]
  },
  {
   "cell_type": "code",
   "execution_count": 35,
   "metadata": {
    "collapsed": true
   },
   "outputs": [],
   "source": [
    "##### Callback for Tensorboard\n",
    "#tbCallBack = keras.callbacks.TensorBoard(log_dir='D:\\GRAD_SCHOOL\\Spring2017\\CognitiveComputing&AI\\midterm\\Graph', histogram_freq=0, write_graph=True, write_images=True)"
   ]
  },
  {
   "cell_type": "code",
   "execution_count": 7,
   "metadata": {
    "collapsed": false,
    "scrolled": true
   },
   "outputs": [
    {
     "name": "stdout",
     "output_type": "stream",
     "text": [
      "left_eye_center_x            7039\n",
      "left_eye_center_y            7039\n",
      "right_eye_center_x           7036\n",
      "right_eye_center_y           7036\n",
      "left_eye_inner_corner_x      2271\n",
      "left_eye_inner_corner_y      2271\n",
      "left_eye_outer_corner_x      2267\n",
      "left_eye_outer_corner_y      2267\n",
      "right_eye_inner_corner_x     2268\n",
      "right_eye_inner_corner_y     2268\n",
      "right_eye_outer_corner_x     2268\n",
      "right_eye_outer_corner_y     2268\n",
      "left_eyebrow_inner_end_x     2270\n",
      "left_eyebrow_inner_end_y     2270\n",
      "left_eyebrow_outer_end_x     2225\n",
      "left_eyebrow_outer_end_y     2225\n",
      "right_eyebrow_inner_end_x    2270\n",
      "right_eyebrow_inner_end_y    2270\n",
      "right_eyebrow_outer_end_x    2236\n",
      "right_eyebrow_outer_end_y    2236\n",
      "nose_tip_x                   7049\n",
      "nose_tip_y                   7049\n",
      "mouth_left_corner_x          2269\n",
      "mouth_left_corner_y          2269\n",
      "mouth_right_corner_x         2270\n",
      "mouth_right_corner_y         2270\n",
      "mouth_center_top_lip_x       2275\n",
      "mouth_center_top_lip_y       2275\n",
      "mouth_center_bottom_lip_x    7016\n",
      "mouth_center_bottom_lip_y    7016\n",
      "Image                        7049\n",
      "dtype: int64\n"
     ]
    }
   ],
   "source": [
    "##### load data\n",
    "X, y = load2d()"
   ]
  },
  {
   "cell_type": "code",
   "execution_count": 12,
   "metadata": {
    "collapsed": true
   },
   "outputs": [],
   "source": [
    "##### Reshape X for tensorflow\n",
    "X = X.reshape(X.shape[0], 96, 96, 1)"
   ]
  },
  {
   "cell_type": "code",
   "execution_count": 4,
   "metadata": {
    "collapsed": true
   },
   "outputs": [],
   "source": [
    "##### Hyper parameters\n",
    "model_name = 'model2_cnn'\n",
    "nb_epoch = 1\n",
    "validation_split = 0.2\n",
    "lr = 0.01\n",
    "momentum = 0.9\n",
    "nesterov = True\n",
    "loss_method = 'mean_squared_error'"
   ]
  },
  {
   "cell_type": "code",
   "execution_count": 6,
   "metadata": {
    "collapsed": false
   },
   "outputs": [],
   "source": [
    "##### Building the model\n",
    "model = Sequential()\n",
    "\n",
    "model.add(Convolution2D(32, 3, 3, input_shape=(96, 96, 1)))\n",
    "model.add(Activation('relu'))\n",
    "model.add(MaxPooling2D(pool_size=(2, 2)))\n",
    "\n",
    "model.add(Convolution2D(64, 2, 2))\n",
    "model.add(Activation('relu'))\n",
    "model.add(MaxPooling2D(pool_size=(2, 2)))\n",
    "\n",
    "model.add(Convolution2D(128, 2, 2))\n",
    "model.add(Activation('relu'))\n",
    "model.add(MaxPooling2D(pool_size=(2, 2)))\n",
    "\n",
    "model.add(Flatten())\n",
    "model.add(Dense(500))\n",
    "model.add(Activation('relu'))\n",
    "model.add(Dense(500))\n",
    "model.add(Activation('relu'))\n",
    "model.add(Dense(30))\n",
    "\n",
    "# save the model\n",
    "# arch_path = 'model/' + model_name + '-arch-' + str(nb_epoch) + '.json'\n",
    "# weights_path = 'model/' + model_name + '-weights-' + str(nb_epoch) + '.hdf5'\n",
    "# save_arch(model, arch_path) "
   ]
  },
  {
   "cell_type": "code",
   "execution_count": 7,
   "metadata": {
    "collapsed": false
   },
   "outputs": [
    {
     "name": "stdout",
     "output_type": "stream",
     "text": [
      "start_time: 2017-03-17 03:47:24.666203\n",
      "Train on 1712 samples, validate on 428 samples\n",
      "Epoch 1/2\n",
      "1712/1712 [==============================] - 47s - loss: 0.0383 - val_loss: 0.0067\n",
      "Epoch 2/2\n",
      "1712/1712 [==============================] - 45s - loss: 0.0065 - val_loss: 0.0058\n",
      "end_time: 2017-03-17 03:48:58.714817, duracion(min): 1\n",
      "0.00599515970239\n",
      "Saved model to disk\n"
     ]
    }
   ],
   "source": [
    "\n",
    "sgd = SGD(lr=lr, momentum=momentum, nesterov=nesterov)\n",
    "model.compile(loss=loss_method, optimizer=sgd)\n",
    "\n",
    "start_time = time.time()\n",
    "print('start_time: %s' % (datetime.now()))\n",
    "hist = model.fit(X, y, nb_epoch=nb_epoch, validation_split=validation_split)\n",
    "print('end_time: %s, duracion(min): %d' % (datetime.now(), int(time.time()-start_time) / 60))\n",
    "\n",
    "# save_history(hist, model_name)\n",
    "\n",
    "scores = model.evaluate(X, y, verbose=0)\n",
    "print(scores)\n",
    "\n",
    "# serialize model to JSON\n",
    "model_json = model.to_json()\n",
    "with open(\"final_model/\"+\"model3_cnn.json\", \"w\") as json_file:\n",
    "    json_file.write(model_json)\n",
    "# serialize weights to HDF5\n",
    "model.save_weights(\"final_model/\"+\"model3_cnn.h5\")\n",
    "print(\"Saved model to disk\")"
   ]
  }
 ],
 "metadata": {
  "anaconda-cloud": {},
  "kernelspec": {
   "display_name": "Python [conda env:tensorflow]",
   "language": "python",
   "name": "conda-env-tensorflow-py"
  },
  "language_info": {
   "codemirror_mode": {
    "name": "ipython",
    "version": 3
   },
   "file_extension": ".py",
   "mimetype": "text/x-python",
   "name": "python",
   "nbconvert_exporter": "python",
   "pygments_lexer": "ipython3",
   "version": "3.5.2"
  }
 },
 "nbformat": 4,
 "nbformat_minor": 1
}
